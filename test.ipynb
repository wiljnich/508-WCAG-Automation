{
 "cells": [
  {
   "cell_type": "code",
   "execution_count": 31,
   "metadata": {},
   "outputs": [],
   "source": [
    "from bs4 import BeautifulSoup as bs\n",
    "import pandas as pd\n",
    "import glob\n",
    "\n",
    "def main():\n",
    "\n",
    "    df = pd.DataFrame(columns=['Utility','Pages','Total Tests','Failed','Warning','Passed','User Verify','Not Applicable'])\n",
    "\n",
    "    for x in glob.glob('pdfs/*.html'):\n",
    "        file = open(str(x), encoding=\"utf16\")     \n",
    "        soup = bs(file)\n",
    "        f.close()\n",
    "        \n",
    "        df = df.append({'Utility' : str(x).split('\\\\')[1].split('.')[0],\n",
    "                   'Pages': soup.find(attrs={'class':\"p\", 'id':\"RPT_NUM_PAGES_LBL\"}).text.split(': ')[1],\n",
    "                   'Total Tests': soup.find(attrs={'class':\"p\", 'id':\"RPT_NUM_TESTS_LBL\"}).text.split(': ')[1],\n",
    "                   'Failed': soup.find(attrs={'class':\"p\", 'id':\"RPT_NUM_FAILED_LBL\"}).text.split(': ')[1],\n",
    "                   'Warning': soup.find(attrs={'class':\"p\", 'id':\"RPT_NUM_WARNING_LBL\"}).text.split(': ')[1],\n",
    "                   'Passed': soup.find(attrs={'class':\"p\", 'id':\"RPT_NUM_PASSED_LBL\"}).text.split(': ')[1],\n",
    "                   'User Verify': soup.find(attrs={'class':\"p\", 'id':\"RPT_NUM_USER_VERIFY_LBL\"}).text.split(': ')[1],\n",
    "                   'Not Applicable': soup.find(attrs={'class':\"p\", 'id':\"RPT_NUM_NA_LBL\"}).text.split(': ')[1]\n",
    "                  }, ignore_index=True)\n",
    "\n",
    "    df.to_csv('acheck_results.csv', encoding='utf-8')\n",
    "    \n",
    "if __name__ == \"__main__\":\n",
    "    main()"
   ]
  },
  {
   "cell_type": "code",
   "execution_count": null,
   "metadata": {},
   "outputs": [],
   "source": []
  }
 ],
 "metadata": {
  "kernelspec": {
   "display_name": "Python 3",
   "language": "python",
   "name": "python3"
  },
  "language_info": {
   "codemirror_mode": {
    "name": "ipython",
    "version": 3
   },
   "file_extension": ".py",
   "mimetype": "text/x-python",
   "name": "python",
   "nbconvert_exporter": "python",
   "pygments_lexer": "ipython3",
   "version": "3.7.1"
  }
 },
 "nbformat": 4,
 "nbformat_minor": 2
}
